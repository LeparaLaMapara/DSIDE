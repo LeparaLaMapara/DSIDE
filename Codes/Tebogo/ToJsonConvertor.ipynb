{
 "cells": [
  {
   "cell_type": "code",
   "execution_count": 58,
   "metadata": {
    "collapsed": true
   },
   "outputs": [],
   "source": [
    "import pandas as pd\n",
    "import json\n",
    "df = pd.read_csv('/home/dside/Documents/project/PROFILE.csv')\n",
    "df = df[df['date']==2012]\n",
    "# df = df[df['profile']==1]"
   ]
  },
  {
   "cell_type": "code",
   "execution_count": 59,
   "metadata": {
    "collapsed": true
   },
   "outputs": [],
   "source": [
    "# choose columns to keep, in the desired nested json hierarchical order\n",
    "df = df[[\"profile\", \"province\",\"mun_code\", \"Efficient_measure\", \"wellfare_measure\"]]"
   ]
  },
  {
   "cell_type": "code",
   "execution_count": 60,
   "metadata": {
    "collapsed": true
   },
   "outputs": [],
   "source": [
    "# order in the groupby here matters, it determines the json nesting\n",
    "# the groupby call makes a pandas series by grouping \"category\", \"sub_category\" and\"sub_category_type\", \n",
    "#while summing the numerical column 'count'\n",
    "#df1 = df.groupby([\"profile\", \"province\",\"mun_code\"])['Efficient_measure'].sum()\n",
    "#df1 = df1.reset_index()"
   ]
  },
  {
   "cell_type": "code",
   "execution_count": 61,
   "metadata": {},
   "outputs": [
    {
     "name": "stdout",
     "output_type": "stream",
     "text": [
      "   profile      province mun_code  Efficient_measure  wellfare_measure\n",
      "0        1  Eastern Cape      BUF           1.062037          0.355695\n",
      "1        1  Western Cape      CPT           1.072593          1.141275\n",
      "2        1  Eastern Cape    EC101           1.072655          1.211953\n",
      "3        1  Eastern Cape    EC102           1.060524          0.900324\n",
      "4        1  Eastern Cape    EC103           1.008050          0.922686\n",
      "5        1  Eastern Cape    EC104           1.070644          0.739762\n",
      "6        1  Eastern Cape    EC105           1.030847          0.289287\n",
      "7        1  Eastern Cape    EC106           1.043974          0.270663\n",
      "8        1  Eastern Cape    EC107           1.053307          0.585636\n",
      "9        1  Eastern Cape    EC108           1.040275          0.774899\n"
     ]
    }
   ],
   "source": [
    "print df.head(10)"
   ]
  },
  {
   "cell_type": "code",
   "execution_count": 62,
   "metadata": {
    "collapsed": true
   },
   "outputs": [],
   "source": [
    "d = dict()\n",
    "d = {\"name\":\"flare\", \"children\": []}"
   ]
  },
  {
   "cell_type": "code",
   "execution_count": 63,
   "metadata": {
    "collapsed": true
   },
   "outputs": [],
   "source": [
    "profile_list = []\n",
    "for line in df.values:\n",
    "    profile = line[0]\n",
    "    profile_list.append(profile)\n",
    "    \n",
    "    province = line[1]\n",
    "    mun_code = line[2]\n",
    "    Efficient_measure = line[3]\n",
    "    wellfare_measure = line[4]"
   ]
  },
  {
   "cell_type": "code",
   "execution_count": 64,
   "metadata": {
    "scrolled": false
   },
   "outputs": [],
   "source": [
    "    # make a list of keys\n",
    "    \n",
    "    #print profile\n",
    "    \n",
    "profile_list = list(set(profile_list))\n",
    "\n",
    "first_child = []  \n",
    "    "
   ]
  },
  {
   "cell_type": "code",
   "execution_count": 65,
   "metadata": {},
   "outputs": [
    {
     "name": "stdout",
     "output_type": "stream",
     "text": [
      "[{'name': 1, 'children': []}, {'name': 2, 'children': []}, {'name': 3, 'children': []}]\n"
     ]
    }
   ],
   "source": [
    "for prof in profile_list:\n",
    "    prof_dict = {\"name\":prof, \"children\":[]}\n",
    "    first_child.append(prof_dict)\n",
    "    \n",
    "print first_child"
   ]
  },
  {
   "cell_type": "code",
   "execution_count": 66,
   "metadata": {},
   "outputs": [],
   "source": [
    "second_child_prelim = []\n",
    "for line in df.values:\n",
    "    profile = line[0]\n",
    "   \n",
    "    mun_code = line[2]\n",
    "    Efficient_measure = line[3]\n",
    "    wellfare_measure = line[4]\n",
    "    \n",
    "    \n",
    "    muni_dict = {\"name\":mun_code, \"children\": [{\"name\": \"Financial Measure \" + str(Efficient_measure), \"size\": Efficient_measure},\n",
    "                                               {\"name\": \"Wellness Measure \" + str(wellfare_measure), \"size\": wellfare_measure}\n",
    "                \n",
    "                                              ]}\n",
    "    \n",
    "    prelim_dict = {\"profile\": profile, \"muni_dict\": muni_dict}\n",
    "    \n",
    "    second_child_prelim.append(prelim_dict)\n",
    "    \n"
   ]
  },
  {
   "cell_type": "code",
   "execution_count": 67,
   "metadata": {},
   "outputs": [],
   "source": [
    "for prof_values in second_child_prelim: \n",
    "    profile = prof_values[\"profile\"]\n",
    "    \n",
    "    for profile_dictionary in first_child: \n",
    "        profile_key = profile_dictionary[\"name\"]\n",
    "        if profile == profile_key:\n",
    "            profile_dictionary[\"children\"].append(prof_values[\"muni_dict\"])\n",
    "            "
   ]
  },
  {
   "cell_type": "code",
   "execution_count": 68,
   "metadata": {},
   "outputs": [],
   "source": [
    "d['children'] = first_child\n",
    "\n",
    "with open('result.json', 'w') as fp:\n",
    "    json.dump(d, fp)\n"
   ]
  },
  {
   "cell_type": "code",
   "execution_count": null,
   "metadata": {
    "collapsed": true
   },
   "outputs": [],
   "source": []
  }
 ],
 "metadata": {
  "kernelspec": {
   "display_name": "Python 2",
   "language": "python",
   "name": "python2"
  },
  "language_info": {
   "codemirror_mode": {
    "name": "ipython",
    "version": 2
   },
   "file_extension": ".py",
   "mimetype": "text/x-python",
   "name": "python",
   "nbconvert_exporter": "python",
   "pygments_lexer": "ipython2",
   "version": "2.7.14"
  }
 },
 "nbformat": 4,
 "nbformat_minor": 2
}
