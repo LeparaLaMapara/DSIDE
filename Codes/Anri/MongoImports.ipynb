{
 "cells": [
  {
   "cell_type": "markdown",
   "metadata": {},
   "source": [
    "# transfering files to database "
   ]
  },
  {
   "cell_type": "code",
   "execution_count": 3,
   "metadata": {
    "collapsed": true
   },
   "outputs": [],
   "source": [
    "#import pymongo\n",
    "\n",
    "# connecting to client\n",
    "#from pymongo import MongoClient\n",
    "#from operator import itemgetter\n",
    "#client = MongoClient()\n",
    "\n",
    "#db = client.DSIDE\n",
    "#collection = db.municipalMoney\n",
    "\n",
    "#create json object\n",
    "#json_obj = {Key:Value}\n",
    "\n",
    "\n",
    "#collection.insert()\n"
   ]
  },
  {
   "cell_type": "code",
   "execution_count": 25,
   "metadata": {
    "collapsed": true
   },
   "outputs": [],
   "source": [
    "import csv\n",
    "import json\n",
    "import pandas as pd\n",
    "import sys, getopt, pprint\n",
    "from pymongo import MongoClient"
   ]
  },
  {
   "cell_type": "code",
   "execution_count": 33,
   "metadata": {
    "collapsed": true
   },
   "outputs": [],
   "source": [
    "mongo_client = MongoClient() \n",
    "db = mongo_client.municipalMoney\n",
    "db.ageCreditor.drop()"
   ]
  },
  {
   "cell_type": "code",
   "execution_count": 34,
   "metadata": {},
   "outputs": [
    {
     "data": {
      "text/plain": [
       "1111"
      ]
     },
     "execution_count": 34,
     "metadata": {},
     "output_type": "execute_result"
    }
   ],
   "source": [
    "\n",
    "\n",
    "#CSV to JSON Conversion\n",
    "csvfile = open('/home/dside/Documents/GitHub/Municipal data/Age_creditor_total.csv', 'r') # r:read\n",
    "reader = csv.DictReader(csvfile)\n",
    "#dir(reader)\n",
    "#reader.fieldnames\n",
    "header= [\"mun_name\", \"mun_code\", \"account_type\", \"label\", \"total_amount\"]\n",
    "\n",
    "rows = []\n",
    "\n",
    "for each in reader:\n",
    "    row={}\n",
    "    for field in header:\n",
    "        row[field] = each[field]\n",
    "    #print(row)\n",
    "    rows.append(row)\n",
    "\n",
    "db.ageCreditor.insert_many(rows)\n",
    "db.ageCreditor.find().count()"
   ]
  },
  {
   "cell_type": "code",
   "execution_count": null,
   "metadata": {},
   "outputs": [],
   "source": [
    "\n",
    "\n",
    "\n"
   ]
  }
 ],
 "metadata": {
  "kernelspec": {
   "display_name": "Python 3",
   "language": "python",
   "name": "python3"
  },
  "language_info": {
   "codemirror_mode": {
    "name": "ipython",
    "version": 3
   },
   "file_extension": ".py",
   "mimetype": "text/x-python",
   "name": "python",
   "nbconvert_exporter": "python",
   "pygments_lexer": "ipython3",
   "version": "3.6.3"
  }
 },
 "nbformat": 4,
 "nbformat_minor": 2
}
